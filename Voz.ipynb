{
  "nbformat": 4,
  "nbformat_minor": 0,
  "metadata": {
    "colab": {
      "name": "Voz.ipynb",
      "provenance": [],
      "mount_file_id": "1F3z4jX3K9iedHo2tn91kIePb9q1cq28R",
      "authorship_tag": "ABX9TyNrWCYu9Lz2/PB8NLxrCZn/",
      "include_colab_link": true
    },
    "kernelspec": {
      "name": "python3",
      "display_name": "Python 3"
    },
    "language_info": {
      "name": "python"
    }
  },
  "cells": [
    {
      "cell_type": "markdown",
      "metadata": {
        "id": "view-in-github",
        "colab_type": "text"
      },
      "source": [
        "<a href=\"https://colab.research.google.com/github/vparro/sinais/blob/master/Voz.ipynb\" target=\"_parent\"><img src=\"https://colab.research.google.com/assets/colab-badge.svg\" alt=\"Open In Colab\"/></a>"
      ]
    },
    {
      "cell_type": "markdown",
      "metadata": {
        "id": "dHs6egShr_TS"
      },
      "source": [
        "# **Bibliotecas**"
      ]
    },
    {
      "cell_type": "code",
      "metadata": {
        "colab": {
          "base_uri": "https://localhost:8080/"
        },
        "id": "k5VCSHimuwXD",
        "outputId": "6898dab9-cef2-4022-c91b-b9070b0b8403"
      },
      "source": [
        "###################################################################################################\n",
        "#  Bibliotecas gerais\n",
        "#  Instalação\n",
        "\n",
        "!pip install xlrd"
      ],
      "execution_count": null,
      "outputs": [
        {
          "output_type": "stream",
          "text": [
            "Requirement already satisfied: xlrd in /usr/local/lib/python3.7/dist-packages (1.1.0)\n"
          ],
          "name": "stdout"
        }
      ]
    },
    {
      "cell_type": "code",
      "metadata": {
        "id": "IBxMK5jyu7U-"
      },
      "source": [
        "###################################################################################################\n",
        "#  Bibliotecas gerais\n",
        "#  \n",
        "\n",
        "import pandas as pd\n",
        "import numpy as np\n",
        "import matplotlib.pyplot as plt\n",
        "import numpy.linalg as npl\n",
        "from numpy.linalg import matrix_rank"
      ],
      "execution_count": null,
      "outputs": []
    },
    {
      "cell_type": "code",
      "metadata": {
        "id": "fZ4KEPPomcJs",
        "colab": {
          "base_uri": "https://localhost:8080/"
        },
        "outputId": "2d05f164-c2fd-44ae-fc4d-365bcdb7ed46"
      },
      "source": [
        "###################################################################################################\n",
        "#  Bibliotecas gráfica\n",
        "#  Instalação\n",
        "\n",
        "!pip install -U plotly\n",
        "# !pip install plotly==4.8.1\n",
        "\n",
        "# organização da planilha excel\n",
        "\n",
        "!pip install nltk\n",
        "\n",
        "# Exportando figuras com melhores resoluções\n",
        "\n",
        "!pip install -U kaleido\n",
        "\n",
        "!add-apt-repository -y ppa:cran/poppler\n",
        "!apt-get update\n",
        "!apt-get install -y libpoppler-cpp-dev\n",
        "!apt-get install poppler-utils"
      ],
      "execution_count": null,
      "outputs": [
        {
          "output_type": "stream",
          "text": [
            "Collecting plotly\n",
            "\u001b[?25l  Downloading https://files.pythonhosted.org/packages/1f/f6/bd3c17c8003b6641df1228e80e1acac97ed8402635e46c2571f8e1ef63af/plotly-4.14.3-py2.py3-none-any.whl (13.2MB)\n",
            "\u001b[K     |████████████████████████████████| 13.2MB 310kB/s \n",
            "\u001b[?25hRequirement already satisfied, skipping upgrade: six in /usr/local/lib/python3.7/dist-packages (from plotly) (1.15.0)\n",
            "Requirement already satisfied, skipping upgrade: retrying>=1.3.3 in /usr/local/lib/python3.7/dist-packages (from plotly) (1.3.3)\n",
            "Installing collected packages: plotly\n",
            "  Found existing installation: plotly 4.4.1\n",
            "    Uninstalling plotly-4.4.1:\n",
            "      Successfully uninstalled plotly-4.4.1\n",
            "Successfully installed plotly-4.14.3\n",
            "Requirement already satisfied: nltk in /usr/local/lib/python3.7/dist-packages (3.2.5)\n",
            "Requirement already satisfied: six in /usr/local/lib/python3.7/dist-packages (from nltk) (1.15.0)\n",
            "Collecting kaleido\n",
            "\u001b[?25l  Downloading https://files.pythonhosted.org/packages/ae/b3/a0f0f4faac229b0011d8c4a7ee6da7c2dca0b6fd08039c95920846f23ca4/kaleido-0.2.1-py2.py3-none-manylinux1_x86_64.whl (79.9MB)\n",
            "\u001b[K     |████████████████████████████████| 79.9MB 86kB/s \n",
            "\u001b[?25hInstalling collected packages: kaleido\n",
            "Successfully installed kaleido-0.2.1\n",
            "Get:1 https://cloud.r-project.org/bin/linux/ubuntu bionic-cran40/ InRelease [3,626 B]\n",
            "Ign:2 https://developer.download.nvidia.com/compute/cuda/repos/ubuntu1804/x86_64  InRelease\n",
            "Ign:3 https://developer.download.nvidia.com/compute/machine-learning/repos/ubuntu1804/x86_64  InRelease\n",
            "Hit:4 https://developer.download.nvidia.com/compute/cuda/repos/ubuntu1804/x86_64  Release\n",
            "Get:5 http://ppa.launchpad.net/c2d4u.team/c2d4u4.0+/ubuntu bionic InRelease [15.9 kB]\n",
            "Get:6 http://security.ubuntu.com/ubuntu bionic-security InRelease [88.7 kB]\n",
            "Hit:7 https://developer.download.nvidia.com/compute/machine-learning/repos/ubuntu1804/x86_64  Release\n",
            "Hit:8 http://archive.ubuntu.com/ubuntu bionic InRelease\n",
            "Get:9 http://archive.ubuntu.com/ubuntu bionic-updates InRelease [88.7 kB]\n",
            "Hit:10 http://ppa.launchpad.net/cran/libgit2/ubuntu bionic InRelease\n",
            "Get:11 http://archive.ubuntu.com/ubuntu bionic-backports InRelease [74.6 kB]\n",
            "Get:13 http://ppa.launchpad.net/cran/poppler/ubuntu bionic InRelease [15.9 kB]\n",
            "Get:15 http://ppa.launchpad.net/deadsnakes/ppa/ubuntu bionic InRelease [15.9 kB]\n",
            "Hit:16 http://ppa.launchpad.net/graphics-drivers/ppa/ubuntu bionic InRelease\n",
            "Get:17 http://ppa.launchpad.net/c2d4u.team/c2d4u4.0+/ubuntu bionic/main Sources [1,750 kB]\n",
            "Get:18 http://archive.ubuntu.com/ubuntu bionic-updates/universe amd64 Packages [2,173 kB]\n",
            "Get:19 http://ppa.launchpad.net/c2d4u.team/c2d4u4.0+/ubuntu bionic/main amd64 Packages [895 kB]\n",
            "Get:20 http://archive.ubuntu.com/ubuntu bionic-updates/main amd64 Packages [2,476 kB]\n",
            "Get:21 http://ppa.launchpad.net/cran/poppler/ubuntu bionic/main amd64 Packages [2,602 B]\n",
            "Get:22 http://ppa.launchpad.net/deadsnakes/ppa/ubuntu bionic/main amd64 Packages [39.5 kB]\n",
            "Fetched 7,640 kB in 4s (2,051 kB/s)\n",
            "Reading package lists... Done\n",
            "Hit:1 https://cloud.r-project.org/bin/linux/ubuntu bionic-cran40/ InRelease\n",
            "Ign:2 https://developer.download.nvidia.com/compute/cuda/repos/ubuntu1804/x86_64  InRelease\n",
            "Ign:3 https://developer.download.nvidia.com/compute/machine-learning/repos/ubuntu1804/x86_64  InRelease\n",
            "Hit:4 https://developer.download.nvidia.com/compute/cuda/repos/ubuntu1804/x86_64  Release\n",
            "Hit:5 http://security.ubuntu.com/ubuntu bionic-security InRelease\n",
            "Hit:6 https://developer.download.nvidia.com/compute/machine-learning/repos/ubuntu1804/x86_64  Release\n",
            "Hit:7 http://ppa.launchpad.net/c2d4u.team/c2d4u4.0+/ubuntu bionic InRelease\n",
            "Hit:8 http://archive.ubuntu.com/ubuntu bionic InRelease\n",
            "Hit:9 http://archive.ubuntu.com/ubuntu bionic-updates InRelease\n",
            "Hit:10 http://ppa.launchpad.net/cran/libgit2/ubuntu bionic InRelease\n",
            "Hit:11 http://archive.ubuntu.com/ubuntu bionic-backports InRelease\n",
            "Hit:13 http://ppa.launchpad.net/cran/poppler/ubuntu bionic InRelease\n",
            "Hit:14 http://ppa.launchpad.net/deadsnakes/ppa/ubuntu bionic InRelease\n",
            "Hit:16 http://ppa.launchpad.net/graphics-drivers/ppa/ubuntu bionic InRelease\n",
            "Reading package lists... Done\n",
            "Reading package lists... Done\n",
            "Building dependency tree       \n",
            "Reading state information... Done\n",
            "The following additional packages will be installed:\n",
            "  libpoppler-cpp0v5 libpoppler-dev libpoppler-private-dev libpoppler85\n",
            "  poppler-data\n",
            "Suggested packages:\n",
            "  poppler-utils ghostscript fonts-japanese-mincho | fonts-ipafont-mincho\n",
            "  fonts-japanese-gothic | fonts-ipafont-gothic fonts-arphic-ukai\n",
            "  fonts-arphic-uming fonts-nanum\n",
            "The following NEW packages will be installed:\n",
            "  libpoppler-cpp-dev libpoppler-cpp0v5 libpoppler85 poppler-data\n",
            "The following packages will be upgraded:\n",
            "  libpoppler-dev libpoppler-private-dev\n",
            "2 upgraded, 4 newly installed, 0 to remove and 34 not upgraded.\n",
            "Need to get 2,696 kB of archives.\n",
            "After this operation, 15.9 MB of additional disk space will be used.\n",
            "Get:1 http://ppa.launchpad.net/cran/poppler/ubuntu bionic/main amd64 libpoppler85 amd64 0.74.0-bionic0 [914 kB]\n",
            "Get:2 http://archive.ubuntu.com/ubuntu bionic/main amd64 poppler-data all 0.4.8-2 [1,479 kB]\n",
            "Get:3 http://ppa.launchpad.net/cran/poppler/ubuntu bionic/main amd64 libpoppler-cpp0v5 amd64 0.74.0-bionic0 [55.3 kB]\n",
            "Get:4 http://ppa.launchpad.net/cran/poppler/ubuntu bionic/main amd64 libpoppler-private-dev amd64 0.74.0-bionic0 [194 kB]\n",
            "Get:5 http://ppa.launchpad.net/cran/poppler/ubuntu bionic/main amd64 libpoppler-dev amd64 0.74.0-bionic0 [24.6 kB]\n",
            "Get:6 http://ppa.launchpad.net/cran/poppler/ubuntu bionic/main amd64 libpoppler-cpp-dev amd64 0.74.0-bionic0 [29.7 kB]\n",
            "Fetched 2,696 kB in 2s (1,102 kB/s)\n",
            "Selecting previously unselected package poppler-data.\n",
            "(Reading database ... 160983 files and directories currently installed.)\n",
            "Preparing to unpack .../0-poppler-data_0.4.8-2_all.deb ...\n",
            "Unpacking poppler-data (0.4.8-2) ...\n",
            "Selecting previously unselected package libpoppler85:amd64.\n",
            "Preparing to unpack .../1-libpoppler85_0.74.0-bionic0_amd64.deb ...\n",
            "Unpacking libpoppler85:amd64 (0.74.0-bionic0) ...\n",
            "Selecting previously unselected package libpoppler-cpp0v5:amd64.\n",
            "Preparing to unpack .../2-libpoppler-cpp0v5_0.74.0-bionic0_amd64.deb ...\n",
            "Unpacking libpoppler-cpp0v5:amd64 (0.74.0-bionic0) ...\n",
            "Preparing to unpack .../3-libpoppler-private-dev_0.74.0-bionic0_amd64.deb ...\n",
            "Unpacking libpoppler-private-dev:amd64 (0.74.0-bionic0) over (0.62.0-2ubuntu2.12) ...\n",
            "Preparing to unpack .../4-libpoppler-dev_0.74.0-bionic0_amd64.deb ...\n",
            "Unpacking libpoppler-dev:amd64 (0.74.0-bionic0) over (0.62.0-2ubuntu2.12) ...\n",
            "Selecting previously unselected package libpoppler-cpp-dev:amd64.\n",
            "Preparing to unpack .../5-libpoppler-cpp-dev_0.74.0-bionic0_amd64.deb ...\n",
            "Unpacking libpoppler-cpp-dev:amd64 (0.74.0-bionic0) ...\n",
            "Setting up poppler-data (0.4.8-2) ...\n",
            "Setting up libpoppler85:amd64 (0.74.0-bionic0) ...\n",
            "Setting up libpoppler-dev:amd64 (0.74.0-bionic0) ...\n",
            "Setting up libpoppler-cpp0v5:amd64 (0.74.0-bionic0) ...\n",
            "Setting up libpoppler-private-dev:amd64 (0.74.0-bionic0) ...\n",
            "Setting up libpoppler-cpp-dev:amd64 (0.74.0-bionic0) ...\n",
            "Processing triggers for fontconfig (2.12.6-0ubuntu2) ...\n",
            "Processing triggers for libc-bin (2.27-3ubuntu1.2) ...\n",
            "/sbin/ldconfig.real: /usr/local/lib/python3.7/dist-packages/ideep4py/lib/libmkldnn.so.0 is not a symbolic link\n",
            "\n",
            "Reading package lists... Done\n",
            "Building dependency tree       \n",
            "Reading state information... Done\n",
            "The following NEW packages will be installed:\n",
            "  poppler-utils\n",
            "0 upgraded, 1 newly installed, 0 to remove and 34 not upgraded.\n",
            "Need to get 184 kB of archives.\n",
            "After this operation, 637 kB of additional disk space will be used.\n",
            "Get:1 http://ppa.launchpad.net/cran/poppler/ubuntu bionic/main amd64 poppler-utils amd64 0.74.0-bionic0 [184 kB]\n",
            "Fetched 184 kB in 1s (319 kB/s)\n",
            "Selecting previously unselected package poppler-utils.\n",
            "(Reading database ... 161529 files and directories currently installed.)\n",
            "Preparing to unpack .../poppler-utils_0.74.0-bionic0_amd64.deb ...\n",
            "Unpacking poppler-utils (0.74.0-bionic0) ...\n",
            "Setting up poppler-utils (0.74.0-bionic0) ...\n",
            "Processing triggers for man-db (2.8.3-2ubuntu0.1) ...\n"
          ],
          "name": "stdout"
        }
      ]
    },
    {
      "cell_type": "code",
      "metadata": {
        "id": "jHpSWFh9mwjE"
      },
      "source": [
        "###################################################################################################\n",
        "#  Bibliotecas gráfica\n",
        "# \n",
        "# \n",
        "\n",
        "import plotly.express as px\n",
        "import plotly.figure_factory as ff\n",
        "\n",
        "from plotly.subplots import make_subplots\n",
        "import plotly.graph_objects as go\n",
        "\n",
        "# Diretório de imagens\n",
        "import os\n",
        "if not os.path.exists(\"images\"):\n",
        "    os.mkdir(\"images\")\n"
      ],
      "execution_count": null,
      "outputs": []
    },
    {
      "cell_type": "markdown",
      "metadata": {
        "id": "X3Dl30me1HZD"
      },
      "source": [
        "## **Controle**"
      ]
    },
    {
      "cell_type": "code",
      "metadata": {
        "id": "6MD7HGs91HAn",
        "colab": {
          "base_uri": "https://localhost:8080/"
        },
        "outputId": "8c02fb5d-2cd5-40a7-c0b1-a8413d50ccf5"
      },
      "source": [
        "###################################################################################################\n",
        "# Biblioteca de controle e sistemas dinâmicos\n",
        "# Instalação\n",
        "\n",
        "!git clone https://github.com/python-control/python-control.git\n",
        "\n",
        "!pip install slycot   # optional\n",
        "!pip install control\n",
        "\n"
      ],
      "execution_count": null,
      "outputs": [
        {
          "output_type": "stream",
          "text": [
            "Cloning into 'python-control'...\n",
            "remote: Enumerating objects: 184, done.\u001b[K\n",
            "remote: Counting objects: 100% (184/184), done.\u001b[K\n",
            "remote: Compressing objects: 100% (110/110), done.\u001b[K\n",
            "remote: Total 7304 (delta 126), reused 111 (delta 74), pack-reused 7120\u001b[K\n",
            "Receiving objects: 100% (7304/7304), 7.42 MiB | 20.76 MiB/s, done.\n",
            "Resolving deltas: 100% (5434/5434), done.\n",
            "Collecting slycot\n",
            "\u001b[?25l  Downloading https://files.pythonhosted.org/packages/85/21/4e7110462f3529b2fbcff8a519b61bf64e0604b8fcbe9a07649c9bed9d7a/slycot-0.4.0.0.tar.gz (1.5MB)\n",
            "\u001b[K     |████████████████████████████████| 1.6MB 5.3MB/s \n",
            "\u001b[?25h  Installing build dependencies ... \u001b[?25l\u001b[?25hdone\n",
            "  Getting requirements to build wheel ... \u001b[?25l\u001b[?25hdone\n",
            "    Preparing wheel metadata ... \u001b[?25l\u001b[?25hdone\n",
            "Requirement already satisfied: numpy in /usr/local/lib/python3.7/dist-packages (from slycot) (1.19.5)\n",
            "Building wheels for collected packages: slycot\n",
            "  Building wheel for slycot (PEP 517) ... \u001b[?25l\u001b[?25hdone\n",
            "  Created wheel for slycot: filename=slycot-0.4.0-cp37-cp37m-linux_x86_64.whl size=1417830 sha256=ee3894a9810d9434b19a7bcf70e9a44268de2e68e13c1890ebc12cf5fd2d92eb\n",
            "  Stored in directory: /root/.cache/pip/wheels/a2/46/56/f82cbb2fd06556f4f3952a2eb2396e8fd29264fffecbaad3cf\n",
            "Successfully built slycot\n",
            "Installing collected packages: slycot\n",
            "Successfully installed slycot-0.4.0\n",
            "Collecting control\n",
            "\u001b[?25l  Downloading https://files.pythonhosted.org/packages/88/87/ee6cb7cdcf4efe5634231bd688b307773629a100ec4c83b0c3eb03edd39d/control-0.9.0.tar.gz (339kB)\n",
            "\u001b[K     |████████████████████████████████| 348kB 5.3MB/s \n",
            "\u001b[?25hRequirement already satisfied: numpy in /usr/local/lib/python3.7/dist-packages (from control) (1.19.5)\n",
            "Requirement already satisfied: scipy in /usr/local/lib/python3.7/dist-packages (from control) (1.4.1)\n",
            "Requirement already satisfied: matplotlib in /usr/local/lib/python3.7/dist-packages (from control) (3.2.2)\n",
            "Requirement already satisfied: pyparsing!=2.0.4,!=2.1.2,!=2.1.6,>=2.0.1 in /usr/local/lib/python3.7/dist-packages (from matplotlib->control) (2.4.7)\n",
            "Requirement already satisfied: kiwisolver>=1.0.1 in /usr/local/lib/python3.7/dist-packages (from matplotlib->control) (1.3.1)\n",
            "Requirement already satisfied: cycler>=0.10 in /usr/local/lib/python3.7/dist-packages (from matplotlib->control) (0.10.0)\n",
            "Requirement already satisfied: python-dateutil>=2.1 in /usr/local/lib/python3.7/dist-packages (from matplotlib->control) (2.8.1)\n",
            "Requirement already satisfied: six in /usr/local/lib/python3.7/dist-packages (from cycler>=0.10->matplotlib->control) (1.15.0)\n",
            "Building wheels for collected packages: control\n",
            "  Building wheel for control (setup.py) ... \u001b[?25l\u001b[?25hdone\n",
            "  Created wheel for control: filename=control-0.9.0-py2.py3-none-any.whl size=344920 sha256=fa481e0288f07812fafa5f92d0fc6571cfa6cfdf8ed8d91b7b48d7172052d60f\n",
            "  Stored in directory: /root/.cache/pip/wheels/35/be/ee/081b68ca3e4b2d253fba2f7f7e51960373903fb7b6d13c5532\n",
            "Successfully built control\n",
            "Installing collected packages: control\n",
            "Successfully installed control-0.9.0\n"
          ],
          "name": "stdout"
        }
      ]
    },
    {
      "cell_type": "code",
      "metadata": {
        "id": "Cvq7M0fhijrj"
      },
      "source": [
        "###################################################################################################\n",
        "# Biblioteca de controle e sistemas dinâmicos\n",
        "# \n",
        "\n",
        "import control\n",
        "from control import impulse_response, step_response\n"
      ],
      "execution_count": null,
      "outputs": []
    },
    {
      "cell_type": "markdown",
      "metadata": {
        "id": "RZsoqRYYlf45"
      },
      "source": [
        "# **Funções proprietárias**"
      ]
    },
    {
      "cell_type": "code",
      "metadata": {
        "id": "FO3VjK4Hljbp"
      },
      "source": [
        "def graphics_plot(x, y, y_name, yaxes_title, title='Title', bins=1, x_tick=1, save=False):\n",
        "\n",
        "  '''\n",
        "  y = [y1, y2, y3, y4]\n",
        "\n",
        "  y_name = ['y1 name', 'y2 name', 'y3 name', 'y4 name']\n",
        "\n",
        "  bins = number of bins for x scale\n",
        "\n",
        "  title = 'Title'\n",
        "\n",
        "  yaxes_title = ['Title yaxes1', 'Title yaxes2', 'Title yaxes3', 'Title yaxes4']\n",
        "\n",
        "  x_tick = dtick for axis x\n",
        "\n",
        "  save = True -> save graphics as image (images/title.eps) \n",
        "  '''\n",
        "\n",
        "  # Create figure with secondary y-axis\n",
        "  fig = make_subplots(specs=[[{'secondary_y': True}]])\n",
        "\n",
        "  # Markers\n",
        "  markers = ['circle','star','diamond','x']\n",
        "\n",
        "  # Lines\n",
        "  dash = ['dash','dot','dashdot']\n",
        "\n",
        "  for i, v in enumerate(y):\n",
        "    \n",
        "    if (len(yaxes_title) == 1) | (i < len(y) - 1):\n",
        "      on = False\n",
        "    else:\n",
        "      on = True\n",
        "\n",
        "    if i == 0:\n",
        "      # Add traces\n",
        "      fig.add_trace(\n",
        "          go.Scatter(x=x,\n",
        "          y=v, name=y_name[i],\n",
        "          marker_symbol=markers[i],\n",
        "          marker_size=7,\n",
        "          mode='lines+markers',\n",
        "          line=dict(color='rgb(0, 0, 0)',\n",
        "          width=2)),\n",
        "          # line_shape='spline'),\n",
        "          secondary_y=False)\n",
        "      \n",
        "    else:\n",
        "      # Add traces\n",
        "      fig.add_trace(\n",
        "          go.Scatter(x=x,\n",
        "          y=v, name=y_name[i],\n",
        "          marker_symbol=markers[i],\n",
        "          marker_size=7,\n",
        "          mode='lines+markers',\n",
        "          line=dict(color='rgb(0, 0, 0)',\n",
        "          width=2,dash=dash[i-1])),\n",
        "          # line_shape='spline'),\n",
        "          secondary_y=on)\n",
        "  \n",
        "  # Add figure title\n",
        "  fig.update_layout(title_text=title)\n",
        "  \n",
        "  # Set x-axis title\n",
        "  fig.update_xaxes(title_text='Ano relativo')\n",
        "\n",
        "  # Set y-axes titles\n",
        "  if len(yaxes_title) > 1:\n",
        "    fig.update_yaxes(title_text='<b>'+ yaxes_title[0] +'</b>', secondary_y=False)\n",
        "    fig.update_yaxes(title_text='<b>'+ yaxes_title[1] +'</b>', secondary_y=True)\n",
        "  else:\n",
        "    fig.update_yaxes(title_text='<b>'+ yaxes_title[0] +'</b>', secondary_y=False)\n",
        "\n",
        "  \n",
        "  fig.update_xaxes(showgrid=True, gridwidth=1, gridcolor='black')\n",
        "  fig.update_yaxes(showgrid=False, gridwidth=1, gridcolor='black')\n",
        "\n",
        "  fig.update_xaxes(showline=True, linewidth=2, linecolor='black', mirror=True)\n",
        "  fig.update_yaxes(showline=True, linewidth=2, linecolor='black', mirror=True)\n",
        "\n",
        "  fig.update_layout(\n",
        "      paper_bgcolor='rgba(0,0,0,0)',\n",
        "      plot_bgcolor='rgba(0,0,0,0)'\n",
        "  )\n",
        "\n",
        "  fig.update_layout(\n",
        "      xaxis=dict(\n",
        "      tickmode='linear',\n",
        "      tick0=0,\n",
        "      dtick=x_tick\n",
        "  ))\n",
        "\n",
        "  fig.update_layout(legend=dict(\n",
        "    orientation='h',\n",
        "    yanchor='bottom',\n",
        "    y=1.01,\n",
        "    xanchor='right',\n",
        "    x=0.95\n",
        "  ))\n",
        "\n",
        "  fig.show()\n",
        "\n",
        "  if save:\n",
        "    fig.write_image('images/'+title+'.eps')"
      ],
      "execution_count": null,
      "outputs": []
    },
    {
      "cell_type": "markdown",
      "metadata": {
        "id": "i27P2x9hAou4"
      },
      "source": [
        "## **Geração de elipses para o resultado do GMM**"
      ]
    },
    {
      "cell_type": "code",
      "metadata": {
        "id": "r-hIBlUzkkza"
      },
      "source": [
        "def draw_ellipse(position, covariance, ax=None, **kwargs):\n",
        "   \n",
        "    ax = ax or plt.gca()\n",
        "    \n",
        "    # Rotaciona o conjunto de dados para alinhamento com a convariância\n",
        "    if covariance.shape == (2, 2):\n",
        "        U, s, Vt = np.linalg.svd(covariance)\n",
        "        angle = np.degrees(np.arctan2(U[1, 0], U[0, 0]))\n",
        "        width, height = 2 * np.sqrt(s)\n",
        "    else:\n",
        "        angle = 0\n",
        "        width, height = 2 * np.sqrt(covariance)\n",
        "    \n",
        "    # Cria e elipse\n",
        "    for nsig in range(1, 4):\n",
        "        ax.add_patch(Ellipse(position, nsig * width, nsig * height,\n",
        "                             angle, **kwargs))\n",
        "        \n",
        "def plot_gmm(gmm, X, label=True, ax=None):\n",
        "    ax = ax or plt.gca()\n",
        "    labels = gmm.fit(X).predict(X)\n",
        "    if label:\n",
        "        ax.scatter(X[:, 0], X[:, 1], c=labels, s=40, cmap='viridis', zorder=2)\n",
        "    else:\n",
        "        ax.scatter(X[:, 0], X[:, 1], s=40, zorder=2)\n",
        "    ax.axis('equal')\n",
        "    \n",
        "    w_factor = 0.2 / gmm.weights_.max()\n",
        "    for pos, covar, w in zip(gmm.means_, gmm.covariances_, gmm.weights_):\n",
        "        draw_ellipse(pos, covar, alpha=w * w_factor)"
      ],
      "execution_count": null,
      "outputs": []
    },
    {
      "cell_type": "markdown",
      "metadata": {
        "id": "StyUcMaIXvPU"
      },
      "source": [
        "# **Dados**"
      ]
    },
    {
      "cell_type": "code",
      "metadata": {
        "colab": {
          "base_uri": "https://localhost:8080/",
          "height": 204
        },
        "id": "FtnIzv-rXxN_",
        "outputId": "19999346-1729-4bb8-f756-e0a09d8be765"
      },
      "source": [
        "###################################################################################################\n",
        "# Lendo os dados\n",
        "\n",
        "vogais = pd.read_csv(\"/content/drive/MyDrive/Colab Notebooks/MLprobabilistico/Vogais.csv\")\n",
        "vogais.head()"
      ],
      "execution_count": null,
      "outputs": [
        {
          "output_type": "execute_result",
          "data": {
            "text/html": [
              "<div>\n",
              "<style scoped>\n",
              "    .dataframe tbody tr th:only-of-type {\n",
              "        vertical-align: middle;\n",
              "    }\n",
              "\n",
              "    .dataframe tbody tr th {\n",
              "        vertical-align: top;\n",
              "    }\n",
              "\n",
              "    .dataframe thead th {\n",
              "        text-align: right;\n",
              "    }\n",
              "</style>\n",
              "<table border=\"1\" class=\"dataframe\">\n",
              "  <thead>\n",
              "    <tr style=\"text-align: right;\">\n",
              "      <th></th>\n",
              "      <th>Genero</th>\n",
              "      <th>Locutor</th>\n",
              "      <th>Tentativa</th>\n",
              "      <th>Fonema</th>\n",
              "      <th>fo</th>\n",
              "      <th>f1</th>\n",
              "      <th>f2</th>\n",
              "      <th>F3</th>\n",
              "    </tr>\n",
              "  </thead>\n",
              "  <tbody>\n",
              "    <tr>\n",
              "      <th>0</th>\n",
              "      <td>1</td>\n",
              "      <td>1</td>\n",
              "      <td>1</td>\n",
              "      <td>IY</td>\n",
              "      <td>160</td>\n",
              "      <td>240</td>\n",
              "      <td>2280</td>\n",
              "      <td>2850</td>\n",
              "    </tr>\n",
              "    <tr>\n",
              "      <th>1</th>\n",
              "      <td>1</td>\n",
              "      <td>1</td>\n",
              "      <td>1</td>\n",
              "      <td>IY</td>\n",
              "      <td>186</td>\n",
              "      <td>280</td>\n",
              "      <td>2400</td>\n",
              "      <td>2790</td>\n",
              "    </tr>\n",
              "    <tr>\n",
              "      <th>2</th>\n",
              "      <td>1</td>\n",
              "      <td>1</td>\n",
              "      <td>2</td>\n",
              "      <td>IH</td>\n",
              "      <td>203</td>\n",
              "      <td>390</td>\n",
              "      <td>2030</td>\n",
              "      <td>2640</td>\n",
              "    </tr>\n",
              "    <tr>\n",
              "      <th>3</th>\n",
              "      <td>1</td>\n",
              "      <td>1</td>\n",
              "      <td>2</td>\n",
              "      <td>IH</td>\n",
              "      <td>192</td>\n",
              "      <td>310</td>\n",
              "      <td>1980</td>\n",
              "      <td>2550</td>\n",
              "    </tr>\n",
              "    <tr>\n",
              "      <th>4</th>\n",
              "      <td>1</td>\n",
              "      <td>1</td>\n",
              "      <td>3</td>\n",
              "      <td>EH</td>\n",
              "      <td>161</td>\n",
              "      <td>490</td>\n",
              "      <td>1870</td>\n",
              "      <td>2420</td>\n",
              "    </tr>\n",
              "  </tbody>\n",
              "</table>\n",
              "</div>"
            ],
            "text/plain": [
              "   Genero  Locutor  Tentativa Fonema   fo   f1    f2    F3\n",
              "0       1        1          1     IY  160  240  2280  2850\n",
              "1       1        1          1     IY  186  280  2400  2790\n",
              "2       1        1          2     IH  203  390  2030  2640\n",
              "3       1        1          2     IH  192  310  1980  2550\n",
              "4       1        1          3     EH  161  490  1870  2420"
            ]
          },
          "metadata": {
            "tags": []
          },
          "execution_count": 34
        }
      ]
    },
    {
      "cell_type": "code",
      "metadata": {
        "colab": {
          "base_uri": "https://localhost:8080/",
          "height": 295
        },
        "id": "CnQh0LJ6Zw1y",
        "outputId": "199f8118-06d5-4ce3-bde3-106dfab426bd"
      },
      "source": [
        "###################################################################################################\n",
        "# Análise elementar dos dados\n",
        "\n",
        "### Análise por genero\n",
        "\n",
        "Homem   = vogais['Genero'] == 1\n",
        "Mulher  = vogais['Genero'] == 2\n",
        "Crianca = vogais['Genero'] == 3\n",
        "\n",
        "vogais[Homem].describe()\n",
        "vogais[Mulher].describe()\n",
        "vogais[Crianca].describe()\n",
        "\n",
        "### Separando os dataframes por genero\n",
        "\n",
        "vogaisH = vogais[Homem]\n",
        "vogaisM = vogais[Mulher]\n",
        "vogaisC = vogais[Crianca]\n",
        "\n",
        "### Capturando os tipos de fonemas\n",
        "\n",
        "fonemas = vogais['Fonema'].unique()\n",
        "\n",
        "### Analisando o espalhamento ntre os homens para o primeiro fonema\n",
        "\n",
        "formante1 = np.array(vogais['f1'][Homem])\n",
        "formante2 = np.array(vogais['f2'][Homem])\n",
        "\n",
        "### Gráficamente\n",
        "\n",
        "plt.scatter(formante1, formante2, alpha=0.5)\n",
        "plt.title('Formantes')\n",
        "plt.xlabel('Formante 1 em Hz')\n",
        "plt.ylabel('Formante 2 em Hz')\n",
        "plt.show()"
      ],
      "execution_count": null,
      "outputs": [
        {
          "output_type": "display_data",
          "data": {
            "image/png": "[encoded data removed]",
            "text/plain": [
              "<Figure size 432x288 with 1 Axes>"
            ]
          },
          "metadata": {
            "tags": [],
            "needs_background": "light"
          }
        }
      ]
    },
    {
      "cell_type": "code",
      "metadata": {
        "id": "QRDhx3fq35dP"
      },
      "source": [
        "###################################################################################################\n",
        "# Codifica os fonemas\n",
        "\n",
        "from sklearn.preprocessing import OrdinalEncoder\n",
        "\n",
        "ord_enc = OrdinalEncoder()\n",
        "vogais[\"Codigo\"] = ord_enc.fit_transform(vogais[[\"Fonema\"]])"
      ],
      "execution_count": null,
      "outputs": []
    },
    {
      "cell_type": "code",
      "metadata": {
        "colab": {
          "base_uri": "https://localhost:8080/",
          "height": 559
        },
        "id": "FSRVfErL-azI",
        "outputId": "18b882ea-89a3-43cb-a76e-ed260d9c95dd"
      },
      "source": [
        "###################################################################################################\n",
        "# Visualiza os dados\n",
        "\n",
        "import plotly.express as px\n",
        "df = vogaisH\n",
        "plt.figure(figsize=(15,7))\n",
        "fig = px.scatter(df, x=\"f1\", y=\"f2\", color=\"Fonema\")\n",
        "\n",
        "fig.update_xaxes(showgrid=True, gridwidth=1, gridcolor='black')\n",
        "fig.update_yaxes(showgrid=False, gridwidth=1, gridcolor='black')\n",
        "\n",
        "fig.update_xaxes(showline=True, linewidth=2, linecolor='black', mirror=True)\n",
        "fig.update_yaxes(showline=True, linewidth=2, linecolor='black', mirror=True)\n",
        "\n",
        "fig.update_layout(\n",
        "      paper_bgcolor='rgba(0,0,0,0)',\n",
        "      plot_bgcolor='rgba(0,0,0,0)'\n",
        "  )\n",
        "fig.show()"
      ],
      "execution_count": null,
      "outputs": [
        {
          "output_type": "display_data",
          "data": {
            "text/html": [
              "<html>\n",
              "<head><meta charset=\"utf-8\" /></head>\n",
              "<body>\n",
              "    <div>            <script src=\"https://cdnjs.cloudflare.com/ajax/libs/mathjax/2.7.5/MathJax.js?config=TeX-AMS-MML_SVG\"></script><script type=\"text/javascript\">if (window.MathJax) {MathJax.Hub.Config({SVG: {font: \"STIX-Web\"}});}</script>                <script type=\"text/javascript\">window.PlotlyConfig = {MathJaxConfig: 'local'};</script>\n",
              "        <script src=\"https://cdn.plot.ly/plotly-latest.min.js\"></script>                <div id=\"7a07bcf6-e68c-40ef-8db9-51e79459a4d4\" class=\"plotly-graph-div\" style=\"height:525px; width:100%;\"></div>            <script type=\"text/javascript\">                                    window.PLOTLYENV=window.PLOTLYENV || {};                                    if (document.getElementById(\"7a07bcf6-e68c-40ef-8db9-51e79459a4d4\")) {                    Plotly.newPlot(                        \"7a07bcf6-e68c-40ef-8db9-51e79459a4d4\",                        [{\"hovertemplate\": \"Fonema=IY<br>f1=%{x}<br>f2=%{y}<extra></extra>\", \"legendgroup\": \"IY\", \"marker\": {\"color\": \"#636efa\", \"symbol\": \"circle\"}, \"mode\": \"markers\", \"name\": \"IY\", \"orientation\": \"v\", \"showlegend\": true, \"type\": \"scatter\", \"x\": [240, 280, 220, 210, 250, 244, 300, 280, 310, 260, 312, 330, 320, 310, 218, 316, 280, 260, 250, 248, 238, 220, 240, 290, 260, 228, 220, 230, 240, 300, 300, 264, 256, 210, 220, 190, 190, 250, 260, 280, 300, 300, 350, 240, 240, 280, 288, 250, 254, 246, 267, 275, 270, 320, 267, 333, 326, 267, 220, 312, 300, 292, 266, 286, 300], \"xaxis\": \"x\", \"y\": [2280, 2400, 2220, 2360, 2180, 2300, 2240, 2450, 2310, 2250, 2350, 2430, 2320, 2280, 2380, 2200, 2275, 2260, 2200, 2225, 2175, 2410, 2440, 2290, 2290, 2350, 2350, 2100, 2000, 2355, 2460, 2290, 2305, 2100, 2080, 2650, 2700, 2180, 2210, 2400, 2320, 2300, 2240, 2100, 2150, 2450, 2500, 2190, 2085, 2185, 2280, 2060, 2020, 2160, 2230, 2305, 2260, 2300, 2300, 2380, 2350, 2500, 2370, 2415, 2415], \"yaxis\": \"y\"}, {\"hovertemplate\": \"Fonema=IH<br>f1=%{x}<br>f2=%{y}<extra></extra>\", \"legendgroup\": \"IH\", \"marker\": {\"color\": \"#EF553B\", \"symbol\": \"circle\"}, \"mode\": \"markers\", \"name\": \"IH\", \"orientation\": \"v\", \"showlegend\": true, \"type\": \"scatter\", \"x\": [390, 310, 410, 420, 400, 400, 440, 440, 430, 420, 313, 410, 206, 450, 434, 400, 389, 405, 416, 450, 380, 390, 365, 300, 385, 407, 380, 346, 280, 310, 370, 370, 400, 350, 450, 380, 430, 400, 384, 330, 430, 420, 384, 349, 340, 440, 390, 431, 360, 490, 372, 350], \"xaxis\": \"x\", \"y\": [2030, 1980, 1890, 1850, 1930, 1990, 2050, 2060, 1880, 2000, 2000, 2040, 2130, 1820, 1850, 2040, 2000, 1925, 1940, 1880, 1930, 1950, 1900, 2040, 2242, 2250, 1880, 1930, 2000, 1950, 1750, 1800, 1900, 1980, 2050, 1870, 1710, 2080, 2110, 1967, 1940, 2300, 2110, 2030, 1940, 1750, 1780, 2040, 2010, 2000, 2220, 2130], \"yaxis\": \"y\"}, {\"hovertemplate\": \"Fonema=EH<br>f1=%{x}<br>f2=%{y}<extra></extra>\", \"legendgroup\": \"EH\", \"marker\": {\"color\": \"#00cc96\", \"symbol\": \"circle\"}, \"mode\": \"markers\", \"name\": \"EH\", \"orientation\": \"v\", \"showlegend\": true, \"type\": \"scatter\", \"x\": [490, 500, 550, 540, 570, 555, 580, 550, 600, 570, 614, 582, 586, 500, 500, 560, 560, 445, 470, 504, 543, 510, 520, 470, 540, 540, 464, 504, 480, 525, 520, 540, 640, 555, 553], \"xaxis\": \"x\", \"y\": [1870, 1760, 1810, 1810, 1780, 1890, 1910, 1770, 1860, 1830, 1840, 1725, 1800, 1870, 1775, 1650, 1720, 2020, 2020, 2090, 1980, 1780, 1730, 1910, 1900, 1920, 2100, 1995, 1920, 1800, 1750, 2000, 2000, 1870, 1935], \"yaxis\": \"y\"}, {\"hovertemplate\": \"Fonema=*EH<br>f1=%{x}<br>f2=%{y}<extra></extra>\", \"legendgroup\": \"*EH\", \"marker\": {\"color\": \"#ab63fa\", \"symbol\": \"circle\"}, \"mode\": \"markers\", \"name\": \"*EH\", \"orientation\": \"v\", \"showlegend\": true, \"type\": \"scatter\", \"x\": [570, 510, 630, 430, 515, 588, 586, 490, 500, 440, 410, 490, 370, 375, 560, 530, 580, 520, 580, 570, 590, 583, 551, 444, 380, 500, 480, 565, 574, 563, 525], \"xaxis\": \"x\", \"y\": [1700, 1710, 1900, 2100, 1760, 1790, 1725, 1740, 1780, 1980, 2050, 1930, 1680, 1700, 1670, 1700, 1870, 1900, 1770, 1750, 1900, 1840, 1788, 1800, 1800, 1980, 1950, 1950, 1840, 1960, 1988], \"yaxis\": \"y\"}, {\"hovertemplate\": \"Fonema=*AE<br>f1=%{x}<br>f2=%{y}<extra></extra>\", \"legendgroup\": \"*AE\", \"marker\": {\"color\": \"#FFA15A\", \"symbol\": \"circle\"}, \"mode\": \"markers\", \"name\": \"*AE\", \"orientation\": \"v\", \"showlegend\": true, \"type\": \"scatter\", \"x\": [560, 514, 552, 582, 620, 550, 530, 760, 622, 600], \"xaxis\": \"x\", \"y\": [1820, 2060, 1820, 1775, 1710, 1570, 1610, 1580, 1890, 2000], \"yaxis\": \"y\"}, {\"hovertemplate\": \"Fonema=AE<br>f1=%{x}<br>f2=%{y}<extra></extra>\", \"legendgroup\": \"AE\", \"marker\": {\"color\": \"#19d3f3\", \"symbol\": \"circle\"}, \"mode\": \"markers\", \"name\": \"AE\", \"orientation\": \"v\", \"showlegend\": true, \"type\": \"scatter\", \"x\": [630, 690, 700, 630, 658, 750, 770, 830, 750, 676, 725, 740, 775, 600, 660, 624, 725, 710, 680, 630, 660, 670, 721, 750, 660, 680, 708, 630, 630, 640, 650, 680, 620, 620, 690, 760, 670, 715, 680, 685, 595, 670, 628, 688, 660, 660, 720, 640, 615, 590, 697, 684, 650, 663, 640, 640], \"xaxis\": \"x\", \"y\": [1700, 1610, 1690, 1710, 1755, 1610, 1580, 1720, 1690, 1670, 1687, 1800, 1810, 1750, 1650, 1700, 1700, 1650, 1720, 1680, 1630, 1630, 1680, 1710, 1800, 1958, 1840, 1770, 1642, 1620, 1580, 1470, 1580, 1800, 1820, 1920, 1850, 1500, 1850, 1780, 1900, 1860, 1837, 1600, 1570, 1600, 1680, 1710, 1720, 1950, 1610, 1634, 1738, 1820, 1773, 1840], \"yaxis\": \"y\"}, {\"hovertemplate\": \"Fonema=AH<br>f1=%{x}<br>f2=%{y}<extra></extra>\", \"legendgroup\": \"AH\", \"marker\": {\"color\": \"#FF6692\", \"symbol\": \"circle\"}, \"mode\": \"markers\", \"name\": \"AH\", \"orientation\": \"v\", \"showlegend\": true, \"type\": \"scatter\", \"x\": [590, 620, 612, 660, 630, 650, 726, 640, 640, 624, 641, 650, 672, 627, 600, 600, 660, 660, 675, 704, 601, 610, 620, 620, 680, 660, 620, 630, 628, 617, 550, 600, 583, 633, 600, 672, 658], \"xaxis\": \"x\", \"y\": [1250, 1300, 1160, 1200, 1300, 1170, 1270, 1250, 1300, 1350, 1120, 1220, 1260, 1038, 1220, 1210, 1000, 960, 1320, 1393, 1273, 1100, 1120, 1100, 1290, 1370, 1200, 1127, 1254, 1255, 1150, 1250, 1110, 1260, 1370, 1272, 1241], \"yaxis\": \"y\"}, {\"hovertemplate\": \"Fonema=AA<br>f1=%{x}<br>f2=%{y}<extra></extra>\", \"legendgroup\": \"AA\", \"marker\": {\"color\": \"#B6E880\", \"symbol\": \"circle\"}, \"mode\": \"markers\", \"name\": \"AA\", \"orientation\": \"v\", \"showlegend\": true, \"type\": \"scatter\", \"x\": [740, 800, 650, 670, 640, 720, 750, 800, 760, 740, 650, 708, 750, 777, 740, 670, 686, 825, 840, 703, 740, 750, 710, 770, 750, 740, 712, 670, 860, 777, 750, 730, 730, 752, 735, 713, 780, 788], \"xaxis\": \"x\", \"y\": [1070, 1060, 1040, 1100, 1080, 1090, 1100, 1120, 1220, 1100, 980, 1054, 1080, 1026, 1240, 1100, 1078, 1168, 1210, 1092, 1110, 1160, 950, 1140, 1160, 1155, 1024, 1080, 1280, 1170, 1175, 1130, 1203, 1125, 1070, 1180, 1170, 1115], \"yaxis\": \"y\"}, {\"hovertemplate\": \"Fonema=*AO<br>f1=%{x}<br>f2=%{y}<extra></extra>\", \"legendgroup\": \"*AO\", \"marker\": {\"color\": \"#FF97FF\", \"symbol\": \"circle\"}, \"mode\": \"markers\", \"name\": \"*AO\", \"orientation\": \"v\", \"showlegend\": true, \"type\": \"scatter\", \"x\": [600, 660, 660, 720, 590, 560, 600, 580, 671, 690, 560, 600, 670, 570, 494, 630, 572, 600, 640, 700, 633, 600], \"xaxis\": \"x\", \"y\": [970, 980, 1030, 960, 965, 924, 920, 910, 1000, 968, 860, 970, 920, 850, 789, 891, 924, 900, 890, 1000, 891, 935], \"yaxis\": \"y\"}, {\"hovertemplate\": \"Fonema=UH<br>f1=%{x}<br>f2=%{y}<extra></extra>\", \"legendgroup\": \"UH\", \"marker\": {\"color\": \"#FECB52\", \"symbol\": \"circle\"}, \"mode\": \"markers\", \"name\": \"UH\", \"orientation\": \"v\", \"showlegend\": true, \"type\": \"scatter\", \"x\": [440, 400, 450, 410, 460, 456, 460, 460, 470, 490, 456, 450, 467, 475, 500, 500, 461, 495, 430, 400, 420, 440, 448, 410, 390, 360, 443, 459, 420, 422, 320, 360, 400, 430, 430, 550, 390, 460, 380, 470, 400, 450, 465, 462, 360, 455, 456, 438, 420, 450, 456, 480, 420, 420, 490, 492], \"xaxis\": \"x\", \"y\": [1120, 1070, 940, 830, 1150, 1030, 960, 1000, 1040, 990, 1080, 1140, 1110, 1220, 1000, 1000, 993, 1080, 1030, 1200, 1230, 1030, 980, 940, 730, 740, 1273, 1286, 1100, 1200, 770, 860, 840, 1130, 1150, 970, 900, 920, 1060, 1220, 1020, 1028, 990, 976, 1028, 970, 1040, 975, 938, 1000, 1040, 1120, 1100, 1120, 1102, 1077], \"yaxis\": \"y\"}, {\"hovertemplate\": \"Fonema=UW<br>f1=%{x}<br>f2=%{y}<extra></extra>\", \"legendgroup\": \"UW\", \"marker\": {\"color\": \"#636efa\", \"symbol\": \"circle\"}, \"mode\": \"markers\", \"name\": \"UW\", \"orientation\": \"v\", \"showlegend\": true, \"type\": \"scatter\", \"x\": [240, 270, 280, 260, 340, 380, 385, 380, 330, 313, 288, 380, 270, 260, 334, 312, 280, 266, 290, 315, 300, 260, 350, 380, 232, 222, 260, 260, 395, 400, 315, 326, 210, 240, 250, 210, 280, 250, 280, 290, 300, 230, 250, 270, 324, 290, 392, 350, 324, 387, 294, 280, 350, 366, 333, 320, 333, 280, 350, 350, 320, 320], \"xaxis\": \"x\", \"y\": [1040, 930, 650, 660, 950, 950, 850, 950, 800, 838, 938, 1040, 910, 975, 1150, 1020, 950, 920, 760, 850, 900, 1010, 720, 740, 696, 665, 720, 740, 1300, 1320, 1080, 1125, 670, 730, 1000, 960, 670, 720, 990, 1000, 600, 570, 690, 650, 800, 800, 1000, 898, 708, 786, 930, 1000, 820, 772, 800, 840, 835, 750, 1000, 980, 918, 960], \"yaxis\": \"y\"}, {\"hovertemplate\": \"Fonema=ER<br>f1=%{x}<br>f2=%{y}<extra></extra>\", \"legendgroup\": \"ER\", \"marker\": {\"color\": \"#EF553B\", \"symbol\": \"circle\"}, \"mode\": \"markers\", \"name\": \"ER\", \"orientation\": \"v\", \"showlegend\": true, \"type\": \"scatter\", \"x\": [370, 460, 510, 510, 500, 530, 590, 555, 560, 510, 503, 505, 570, 565, 460, 425, 518, 504, 500, 532, 511, 530, 400, 360, 430, 440, 432, 420, 450, 460, 532, 538, 444, 469, 390, 420, 360, 370, 480, 470, 420, 450, 560, 540, 540, 510, 560, 600, 547, 512, 488, 472, 440, 480, 472, 480, 483, 488, 490, 539, 549, 554, 484, 543, 508], \"xaxis\": \"x\", \"y\": [1520, 1330, 1210, 1130, 1370, 1330, 1400, 1430, 1510, 1460, 1305, 1320, 1300, 1370, 1400, 1410, 1305, 1210, 1340, 1275, 1561, 1450, 1450, 1410, 1370, 1360, 1300, 1300, 1230, 1300, 1500, 1460, 1300, 1288, 1320, 1240, 1300, 1300, 1410, 1330, 1350, 1350, 1520, 1570, 1280, 1280, 1350, 1470, 1340, 1280, 1468, 1465, 1250, 1160, 1430, 1320, 1335, 1300, 1380, 1370, 1353, 1480, 1505, 1310, 1309], \"yaxis\": \"y\"}, {\"hovertemplate\": \"Fonema=*AH<br>f1=%{x}<br>f2=%{y}<extra></extra>\", \"legendgroup\": \"*AH\", \"marker\": {\"color\": \"#00cc96\", \"symbol\": \"circle\"}, \"mode\": \"markers\", \"name\": \"*AH\", \"orientation\": \"v\", \"showlegend\": true, \"type\": \"scatter\", \"x\": [650, 625, 600, 675, 680, 620, 626, 586, 560, 560, 552, 580, 590, 570, 590, 640, 630, 810, 770, 620, 650, 680, 565, 575, 608, 630, 630, 660, 625], \"xaxis\": \"x\", \"y\": [1080, 1060, 1200, 1140, 1150, 1240, 1125, 1078, 1430, 1390, 1122, 1150, 1283, 1050, 1100, 1110, 1200, 1110, 1150, 880, 1000, 1300, 1157, 1170, 1120, 1140, 1170, 1213, 1312], \"yaxis\": \"y\"}, {\"hovertemplate\": \"Fonema=AO<br>f1=%{x}<br>f2=%{y}<extra></extra>\", \"legendgroup\": \"AO\", \"marker\": {\"color\": \"#ab63fa\", \"symbol\": \"circle\"}, \"mode\": \"markers\", \"name\": \"AO\", \"orientation\": \"v\", \"showlegend\": true, \"type\": \"scatter\", \"x\": [580, 560, 550, 540, 540, 555, 540, 550, 430, 510, 578, 614, 600, 580, 585, 560, 510, 480, 560, 550, 500, 550, 565, 584, 460, 470, 570, 560, 610, 650, 460, 470, 500, 600, 460, 510, 504, 550, 550, 560, 584, 507, 538, 625], \"xaxis\": \"x\", \"y\": [580, 560, 870, 840, 850, 890, 970, 880, 720, 800, 970, 848, 860, 800, 819, 840, 720, 710, 665, 650, 620, 700, 780, 849, 720, 690, 820, 790, 840, 880, 610, 710, 800, 1000, 740, 700, 756, 913, 890, 810, 840, 755, 816, 875], \"yaxis\": \"y\"}, {\"hovertemplate\": \"Fonema=*UW<br>f1=%{x}<br>f2=%{y}<extra></extra>\", \"legendgroup\": \"*UW\", \"marker\": {\"color\": \"#FFA15A\", \"symbol\": \"circle\"}, \"mode\": \"markers\", \"name\": \"*UW\", \"orientation\": \"v\", \"showlegend\": true, \"type\": \"scatter\", \"x\": [326, 400, 344, 320], \"xaxis\": \"x\", \"y\": [900, 1000, 960, 960], \"yaxis\": \"y\"}, {\"hovertemplate\": \"Fonema=*IH<br>f1=%{x}<br>f2=%{y}<extra></extra>\", \"legendgroup\": \"*IH\", \"marker\": {\"color\": \"#19d3f3\", \"symbol\": \"circle\"}, \"mode\": \"markers\", \"name\": \"*IH\", \"orientation\": \"v\", \"showlegend\": true, \"type\": \"scatter\", \"x\": [450, 470, 320, 400, 407, 420, 410, 410, 440, 375, 400, 490, 400, 407], \"xaxis\": \"x\", \"y\": [1960, 2000, 2200, 1900, 2070, 1900, 2060, 2200, 2080, 2188, 2150, 1960, 1980, 2095], \"yaxis\": \"y\"}, {\"hovertemplate\": \"Fonema=*AA<br>f1=%{x}<br>f2=%{y}<extra></extra>\", \"legendgroup\": \"*AA\", \"marker\": {\"color\": \"#FF6692\", \"symbol\": \"circle\"}, \"mode\": \"markers\", \"name\": \"*AA\", \"orientation\": \"v\", \"showlegend\": true, \"type\": \"scatter\", \"x\": [720, 670, 650, 714, 650, 705, 725, 746, 800, 680, 700, 600, 620, 750, 700, 670, 640, 670, 630, 670, 700, 700, 690, 760, 690, 630, 730, 730], \"xaxis\": \"x\", \"y\": [1260, 960, 970, 1170, 1150, 1050, 1046, 1018, 1330, 1120, 1050, 830, 820, 1150, 1100, 1100, 970, 980, 980, 940, 1060, 1040, 960, 1260, 1072, 1000, 1160, 1048], \"yaxis\": \"y\"}, {\"hovertemplate\": \"Fonema=*UH<br>f1=%{x}<br>f2=%{y}<extra></extra>\", \"legendgroup\": \"*UH\", \"marker\": {\"color\": \"#B6E880\", \"symbol\": \"circle\"}, \"mode\": \"markers\", \"name\": \"*UH\", \"orientation\": \"v\", \"showlegend\": true, \"type\": \"scatter\", \"x\": [460, 493, 480, 380, 310, 350, 380, 490, 390, 448], \"xaxis\": \"x\", \"y\": [1120, 1120, 950, 910, 790, 1000, 920, 870, 1060, 960], \"yaxis\": \"y\"}, {\"hovertemplate\": \"Fonema=*IY<br>f1=%{x}<br>f2=%{y}<extra></extra>\", \"legendgroup\": \"*IY\", \"marker\": {\"color\": \"#FF97FF\", \"symbol\": \"circle\"}, \"mode\": \"markers\", \"name\": \"*IY\", \"orientation\": \"v\", \"showlegend\": true, \"type\": \"scatter\", \"x\": [230], \"xaxis\": \"x\", \"y\": [2480], \"yaxis\": \"y\"}, {\"hovertemplate\": \"Fonema=*ER<br>f1=%{x}<br>f2=%{y}<extra></extra>\", \"legendgroup\": \"*ER\", \"marker\": {\"color\": \"#FECB52\", \"symbol\": \"circle\"}, \"mode\": \"markers\", \"name\": \"*ER\", \"orientation\": \"v\", \"showlegend\": true, \"type\": \"scatter\", \"x\": [450], \"xaxis\": \"x\", \"y\": [1420], \"yaxis\": \"y\"}],                        {\"legend\": {\"title\": {\"text\": \"Fonema\"}, \"tracegroupgap\": 0}, \"margin\": {\"t\": 60}, \"paper_bgcolor\": \"rgba(0,0,0,0)\", \"plot_bgcolor\": \"rgba(0,0,0,0)\", \"template\": {\"data\": {\"bar\": [{\"error_x\": {\"color\": \"#2a3f5f\"}, \"error_y\": {\"color\": \"#2a3f5f\"}, \"marker\": {\"line\": {\"color\": \"#E5ECF6\", \"width\": 0.5}}, \"type\": \"bar\"}], \"barpolar\": [{\"marker\": {\"line\": {\"color\": \"#E5ECF6\", \"width\": 0.5}}, \"type\": \"barpolar\"}], \"carpet\": [{\"aaxis\": {\"endlinecolor\": \"#2a3f5f\", \"gridcolor\": \"white\", \"linecolor\": \"white\", \"minorgridcolor\": \"white\", \"startlinecolor\": \"#2a3f5f\"}, \"baxis\": {\"endlinecolor\": \"#2a3f5f\", \"gridcolor\": \"white\", \"linecolor\": \"white\", \"minorgridcolor\": \"white\", \"startlinecolor\": \"#2a3f5f\"}, \"type\": \"carpet\"}], \"choropleth\": [{\"colorbar\": {\"outlinewidth\": 0, \"ticks\": \"\"}, \"type\": \"choropleth\"}], \"contour\": [{\"colorbar\": {\"outlinewidth\": 0, \"ticks\": \"\"}, \"colorscale\": [[0.0, \"#0d0887\"], [0.1111111111111111, \"#46039f\"], [0.2222222222222222, \"#7201a8\"], [0.3333333333333333, \"#9c179e\"], [0.4444444444444444, \"#bd3786\"], [0.5555555555555556, \"#d8576b\"], [0.6666666666666666, \"#ed7953\"], [0.7777777777777778, \"#fb9f3a\"], [0.8888888888888888, \"#fdca26\"], [1.0, \"#f0f921\"]], \"type\": \"contour\"}], \"contourcarpet\": [{\"colorbar\": {\"outlinewidth\": 0, \"ticks\": \"\"}, \"type\": \"contourcarpet\"}], \"heatmap\": [{\"colorbar\": {\"outlinewidth\": 0, \"ticks\": \"\"}, \"colorscale\": [[0.0, \"#0d0887\"], [0.1111111111111111, \"#46039f\"], [0.2222222222222222, \"#7201a8\"], [0.3333333333333333, \"#9c179e\"], [0.4444444444444444, \"#bd3786\"], [0.5555555555555556, \"#d8576b\"], [0.6666666666666666, \"#ed7953\"], [0.7777777777777778, \"#fb9f3a\"], [0.8888888888888888, \"#fdca26\"], [1.0, \"#f0f921\"]], \"type\": \"heatmap\"}], \"heatmapgl\": [{\"colorbar\": {\"outlinewidth\": 0, \"ticks\": \"\"}, \"colorscale\": [[0.0, \"#0d0887\"], [0.1111111111111111, \"#46039f\"], [0.2222222222222222, \"#7201a8\"], [0.3333333333333333, \"#9c179e\"], [0.4444444444444444, \"#bd3786\"], [0.5555555555555556, \"#d8576b\"], [0.6666666666666666, \"#ed7953\"], [0.7777777777777778, \"#fb9f3a\"], [0.8888888888888888, \"#fdca26\"], [1.0, \"#f0f921\"]], \"type\": \"heatmapgl\"}], \"histogram\": [{\"marker\": {\"colorbar\": {\"outlinewidth\": 0, \"ticks\": \"\"}}, \"type\": \"histogram\"}], \"histogram2d\": [{\"colorbar\": {\"outlinewidth\": 0, \"ticks\": \"\"}, \"colorscale\": [[0.0, \"#0d0887\"], [0.1111111111111111, \"#46039f\"], [0.2222222222222222, \"#7201a8\"], [0.3333333333333333, \"#9c179e\"], [0.4444444444444444, \"#bd3786\"], [0.5555555555555556, \"#d8576b\"], [0.6666666666666666, \"#ed7953\"], [0.7777777777777778, \"#fb9f3a\"], [0.8888888888888888, \"#fdca26\"], [1.0, \"#f0f921\"]], \"type\": \"histogram2d\"}], \"histogram2dcontour\": [{\"colorbar\": {\"outlinewidth\": 0, \"ticks\": \"\"}, \"colorscale\": [[0.0, \"#0d0887\"], [0.1111111111111111, \"#46039f\"], [0.2222222222222222, \"#7201a8\"], [0.3333333333333333, \"#9c179e\"], [0.4444444444444444, \"#bd3786\"], [0.5555555555555556, \"#d8576b\"], [0.6666666666666666, \"#ed7953\"], [0.7777777777777778, \"#fb9f3a\"], [0.8888888888888888, \"#fdca26\"], [1.0, \"#f0f921\"]], \"type\": \"histogram2dcontour\"}], \"mesh3d\": [{\"colorbar\": {\"outlinewidth\": 0, \"ticks\": \"\"}, \"type\": \"mesh3d\"}], \"parcoords\": [{\"line\": {\"colorbar\": {\"outlinewidth\": 0, \"ticks\": \"\"}}, \"type\": \"parcoords\"}], \"pie\": [{\"automargin\": true, \"type\": \"pie\"}], \"scatter\": [{\"marker\": {\"colorbar\": {\"outlinewidth\": 0, \"ticks\": \"\"}}, \"type\": \"scatter\"}], \"scatter3d\": [{\"line\": {\"colorbar\": {\"outlinewidth\": 0, \"ticks\": \"\"}}, \"marker\": {\"colorbar\": {\"outlinewidth\": 0, \"ticks\": \"\"}}, \"type\": \"scatter3d\"}], \"scattercarpet\": [{\"marker\": {\"colorbar\": {\"outlinewidth\": 0, \"ticks\": \"\"}}, \"type\": \"scattercarpet\"}], \"scattergeo\": [{\"marker\": {\"colorbar\": {\"outlinewidth\": 0, \"ticks\": \"\"}}, \"type\": \"scattergeo\"}], \"scattergl\": [{\"marker\": {\"colorbar\": {\"outlinewidth\": 0, \"ticks\": \"\"}}, \"type\": \"scattergl\"}], \"scattermapbox\": [{\"marker\": {\"colorbar\": {\"outlinewidth\": 0, \"ticks\": \"\"}}, \"type\": \"scattermapbox\"}], \"scatterpolar\": [{\"marker\": {\"colorbar\": {\"outlinewidth\": 0, \"ticks\": \"\"}}, \"type\": \"scatterpolar\"}], \"scatterpolargl\": [{\"marker\": {\"colorbar\": {\"outlinewidth\": 0, \"ticks\": \"\"}}, \"type\": \"scatterpolargl\"}], \"scatterternary\": [{\"marker\": {\"colorbar\": {\"outlinewidth\": 0, \"ticks\": \"\"}}, \"type\": \"scatterternary\"}], \"surface\": [{\"colorbar\": {\"outlinewidth\": 0, \"ticks\": \"\"}, \"colorscale\": [[0.0, \"#0d0887\"], [0.1111111111111111, \"#46039f\"], [0.2222222222222222, \"#7201a8\"], [0.3333333333333333, \"#9c179e\"], [0.4444444444444444, \"#bd3786\"], [0.5555555555555556, \"#d8576b\"], [0.6666666666666666, \"#ed7953\"], [0.7777777777777778, \"#fb9f3a\"], [0.8888888888888888, \"#fdca26\"], [1.0, \"#f0f921\"]], \"type\": \"surface\"}], \"table\": [{\"cells\": {\"fill\": {\"color\": \"#EBF0F8\"}, \"line\": {\"color\": \"white\"}}, \"header\": {\"fill\": {\"color\": \"#C8D4E3\"}, \"line\": {\"color\": \"white\"}}, \"type\": \"table\"}]}, \"layout\": {\"annotationdefaults\": {\"arrowcolor\": \"#2a3f5f\", \"arrowhead\": 0, \"arrowwidth\": 1}, \"autotypenumbers\": \"strict\", \"coloraxis\": {\"colorbar\": {\"outlinewidth\": 0, \"ticks\": \"\"}}, \"colorscale\": {\"diverging\": [[0, \"#8e0152\"], [0.1, \"#c51b7d\"], [0.2, \"#de77ae\"], [0.3, \"#f1b6da\"], [0.4, \"#fde0ef\"], [0.5, \"#f7f7f7\"], [0.6, \"#e6f5d0\"], [0.7, \"#b8e186\"], [0.8, \"#7fbc41\"], [0.9, \"#4d9221\"], [1, \"#276419\"]], \"sequential\": [[0.0, \"#0d0887\"], [0.1111111111111111, \"#46039f\"], [0.2222222222222222, \"#7201a8\"], [0.3333333333333333, \"#9c179e\"], [0.4444444444444444, \"#bd3786\"], [0.5555555555555556, \"#d8576b\"], [0.6666666666666666, \"#ed7953\"], [0.7777777777777778, \"#fb9f3a\"], [0.8888888888888888, \"#fdca26\"], [1.0, \"#f0f921\"]], \"sequentialminus\": [[0.0, \"#0d0887\"], [0.1111111111111111, \"#46039f\"], [0.2222222222222222, \"#7201a8\"], [0.3333333333333333, \"#9c179e\"], [0.4444444444444444, \"#bd3786\"], [0.5555555555555556, \"#d8576b\"], [0.6666666666666666, \"#ed7953\"], [0.7777777777777778, \"#fb9f3a\"], [0.8888888888888888, \"#fdca26\"], [1.0, \"#f0f921\"]]}, \"colorway\": [\"#636efa\", \"#EF553B\", \"#00cc96\", \"#ab63fa\", \"#FFA15A\", \"#19d3f3\", \"#FF6692\", \"#B6E880\", \"#FF97FF\", \"#FECB52\"], \"font\": {\"color\": \"#2a3f5f\"}, \"geo\": {\"bgcolor\": \"white\", \"lakecolor\": \"white\", \"landcolor\": \"#E5ECF6\", \"showlakes\": true, \"showland\": true, \"subunitcolor\": \"white\"}, \"hoverlabel\": {\"align\": \"left\"}, \"hovermode\": \"closest\", \"mapbox\": {\"style\": \"light\"}, \"paper_bgcolor\": \"white\", \"plot_bgcolor\": \"#E5ECF6\", \"polar\": {\"angularaxis\": {\"gridcolor\": \"white\", \"linecolor\": \"white\", \"ticks\": \"\"}, \"bgcolor\": \"#E5ECF6\", \"radialaxis\": {\"gridcolor\": \"white\", \"linecolor\": \"white\", \"ticks\": \"\"}}, \"scene\": {\"xaxis\": {\"backgroundcolor\": \"#E5ECF6\", \"gridcolor\": \"white\", \"gridwidth\": 2, \"linecolor\": \"white\", \"showbackground\": true, \"ticks\": \"\", \"zerolinecolor\": \"white\"}, \"yaxis\": {\"backgroundcolor\": \"#E5ECF6\", \"gridcolor\": \"white\", \"gridwidth\": 2, \"linecolor\": \"white\", \"showbackground\": true, \"ticks\": \"\", \"zerolinecolor\": \"white\"}, \"zaxis\": {\"backgroundcolor\": \"#E5ECF6\", \"gridcolor\": \"white\", \"gridwidth\": 2, \"linecolor\": \"white\", \"showbackground\": true, \"ticks\": \"\", \"zerolinecolor\": \"white\"}}, \"shapedefaults\": {\"line\": {\"color\": \"#2a3f5f\"}}, \"ternary\": {\"aaxis\": {\"gridcolor\": \"white\", \"linecolor\": \"white\", \"ticks\": \"\"}, \"baxis\": {\"gridcolor\": \"white\", \"linecolor\": \"white\", \"ticks\": \"\"}, \"bgcolor\": \"#E5ECF6\", \"caxis\": {\"gridcolor\": \"white\", \"linecolor\": \"white\", \"ticks\": \"\"}}, \"title\": {\"x\": 0.05}, \"xaxis\": {\"automargin\": true, \"gridcolor\": \"white\", \"linecolor\": \"white\", \"ticks\": \"\", \"title\": {\"standoff\": 15}, \"zerolinecolor\": \"white\", \"zerolinewidth\": 2}, \"yaxis\": {\"automargin\": true, \"gridcolor\": \"white\", \"linecolor\": \"white\", \"ticks\": \"\", \"title\": {\"standoff\": 15}, \"zerolinecolor\": \"white\", \"zerolinewidth\": 2}}}, \"xaxis\": {\"anchor\": \"y\", \"domain\": [0.0, 1.0], \"gridcolor\": \"black\", \"gridwidth\": 1, \"linecolor\": \"black\", \"linewidth\": 2, \"mirror\": true, \"showgrid\": true, \"showline\": true, \"title\": {\"text\": \"f1\"}}, \"yaxis\": {\"anchor\": \"x\", \"domain\": [0.0, 1.0], \"gridcolor\": \"black\", \"gridwidth\": 1, \"linecolor\": \"black\", \"linewidth\": 2, \"mirror\": true, \"showgrid\": false, \"showline\": true, \"title\": {\"text\": \"f2\"}}},                        {\"responsive\": true}                    ).then(function(){\n",
              "                            \n",
              "var gd = document.getElementById('7a07bcf6-e68c-40ef-8db9-51e79459a4d4');\n",
              "var x = new MutationObserver(function (mutations, observer) {{\n",
              "        var display = window.getComputedStyle(gd).display;\n",
              "        if (!display || display === 'none') {{\n",
              "            console.log([gd, 'removed!']);\n",
              "            Plotly.purge(gd);\n",
              "            observer.disconnect();\n",
              "        }}\n",
              "}});\n",
              "\n",
              "// Listen for the removal of the full notebook cells\n",
              "var notebookContainer = gd.closest('#notebook-container');\n",
              "if (notebookContainer) {{\n",
              "    x.observe(notebookContainer, {childList: true});\n",
              "}}\n",
              "\n",
              "// Listen for the clearing of the current output cell\n",
              "var outputEl = gd.closest('.output');\n",
              "if (outputEl) {{\n",
              "    x.observe(outputEl, {childList: true});\n",
              "}}\n",
              "\n",
              "                        })                };                            </script>        </div>\n",
              "</body>\n",
              "</html>"
            ]
          },
          "metadata": {
            "tags": []
          }
        },
        {
          "output_type": "display_data",
          "data": {
            "text/plain": [
              "<Figure size 1080x504 with 0 Axes>"
            ]
          },
          "metadata": {
            "tags": []
          }
        }
      ]
    },
    {
      "cell_type": "markdown",
      "metadata": {
        "id": "s4NLyJYKCRFV"
      },
      "source": [
        "# **Separando os fonemas**"
      ]
    },
    {
      "cell_type": "code",
      "metadata": {
        "colab": {
          "base_uri": "https://localhost:8080/",
          "height": 497
        },
        "id": "7Ah9pkKRCUlb",
        "outputId": "27d1dcb0-c4f2-4825-8815-65e23ee2d8d9"
      },
      "source": [
        "Freq = np.array([formante1,formante2]).T\n",
        "\n",
        "###################################################################################################\n",
        "# Gaussian Mixtures\n",
        "\n",
        "from sklearn.mixture import GaussianMixture\n",
        "\n",
        "n_components = np.arange(1, 21)\n",
        "models = [GaussianMixture(n, covariance_type='full', random_state=0).fit(Freq)\n",
        "          for n in n_components]\n",
        "plt.figure(figsize = (8,8))\n",
        "plt.plot(n_components, [m.bic(Freq) for m in models], label='BIC',linewidth = \"3\")\n",
        "plt.plot(n_components, [m.aic(Freq) for m in models], label='AIC',linewidth = \"3\")\n",
        "plt.legend(loc='best')\n",
        "plt.xlabel('Número de Componentes');"
      ],
      "execution_count": null,
      "outputs": [
        {
          "output_type": "display_data",
          "data": {
            "image/png": "[encoded data removed]",
            "text/plain": [
              "<Figure size 576x576 with 1 Axes>"
            ]
          },
          "metadata": {
            "tags": [],
            "needs_background": "light"
          }
        }
      ]
    },
    {
      "cell_type": "code",
      "metadata": {
        "colab": {
          "base_uri": "https://localhost:8080/",
          "height": 483
        },
        "id": "ruXVLFO_FKxe",
        "outputId": "578809fc-2773-4798-f1ff-27a1cc2dfe81"
      },
      "source": [
        "###################################################################################################\n",
        "# Gaussian Mixtures - visualização\n",
        "\n",
        "from matplotlib.patches import Ellipse\n",
        "\n",
        "gmm2 = GaussianMixture(n_components=5, covariance_type='full', random_state=0)\n",
        "plt.figure(figsize = (8,8))\n",
        "plot_gmm(gmm2, Freq)"
      ],
      "execution_count": null,
      "outputs": [
        {
          "output_type": "display_data",
          "data": {
            "image/png": "[encoded data removed]",
            "text/plain": [
              "<Figure size 576x576 with 1 Axes>"
            ]
          },
          "metadata": {
            "tags": [],
            "needs_background": "light"
          }
        }
      ]
    },
    {
      "cell_type": "code",
      "metadata": {
        "colab": {
          "base_uri": "https://localhost:8080/"
        },
        "id": "5qv-jP3jG5lo",
        "outputId": "c187503c-5620-4931-9bf7-670eb6817f59"
      },
      "source": [
        "gmm2.fit_predict(Freq, y=None)"
      ],
      "execution_count": null,
      "outputs": [
        {
          "output_type": "execute_result",
          "data": {
            "text/plain": [
              "array([3, 3, 3, 3, 1, 1, 1, 1, 4, 4, 2, 2, 2, 2, 0, 0, 0, 0, 4, 4, 3, 3,\n",
              "       1, 1, 1, 1, 1, 1, 2, 2, 2, 2, 2, 2, 0, 0, 0, 0, 4, 0, 3, 3, 1, 1,\n",
              "       1, 1, 1, 1, 4, 4, 2, 2, 2, 2, 0, 0, 0, 0, 4, 4, 3, 3, 1, 1, 1, 1,\n",
              "       1, 1, 4, 4, 2, 2, 2, 2, 0, 0, 0, 0, 4, 4, 3, 3, 1, 1, 1, 1, 1, 1,\n",
              "       4, 4, 2, 4, 2, 2, 0, 0, 0, 0, 4, 4, 3, 3, 1, 3, 1, 1, 1, 1, 4, 4,\n",
              "       2, 2, 2, 2, 0, 0, 0, 0, 4, 4, 3, 3, 1, 1, 1, 1, 1, 1, 4, 4, 2, 2,\n",
              "       2, 2, 0, 0, 0, 0, 4, 4, 3, 3, 3, 3, 1, 1, 1, 1, 4, 4, 2, 4, 2, 2,\n",
              "       0, 4, 0, 0, 4, 4, 3, 3, 1, 1, 1, 1, 1, 1, 4, 4, 2, 2, 2, 2, 0, 0,\n",
              "       0, 0, 4, 4, 3, 3, 3, 3, 1, 1, 1, 1, 4, 4, 2, 2, 2, 2, 0, 0, 0, 0,\n",
              "       4, 4, 3, 3, 1, 1, 1, 1, 1, 1, 4, 2, 2, 2, 2, 2, 0, 0, 0, 0, 4, 4,\n",
              "       3, 3, 1, 3, 1, 1, 1, 1, 4, 4, 2, 2, 2, 2, 0, 4, 0, 0, 4, 4, 3, 3,\n",
              "       1, 1, 1, 1, 1, 1, 4, 4, 2, 2, 2, 2, 0, 0, 0, 0, 4, 4, 3, 3, 3, 1,\n",
              "       1, 1, 1, 1, 4, 4, 2, 2, 2, 2, 0, 0, 0, 0, 4, 4, 3, 3, 3, 3, 1, 1,\n",
              "       1, 1, 2, 2, 2, 2, 2, 2, 0, 0, 0, 0, 4, 4, 3, 3, 3, 3, 1, 1, 1, 1,\n",
              "       4, 4, 2, 2, 2, 2, 4, 4, 4, 4, 4, 4, 3, 3, 3, 3, 1, 1, 1, 1, 4, 4,\n",
              "       2, 2, 2, 2, 0, 0, 0, 0, 4, 4, 3, 3, 3, 3, 1, 1, 1, 1, 4, 4, 2, 2,\n",
              "       2, 2, 0, 0, 0, 0, 4, 4, 3, 3, 3, 3, 3, 3, 1, 1, 4, 4, 2, 2, 2, 2,\n",
              "       0, 0, 0, 0, 4, 4, 3, 3, 1, 3, 1, 1, 1, 1, 4, 4, 2, 2, 2, 2, 0, 0,\n",
              "       0, 0, 4, 4, 3, 3, 3, 1, 1, 1, 1, 1, 4, 4, 2, 2, 2, 2, 0, 0, 0, 0,\n",
              "       4, 4, 3, 3, 3, 1, 1, 1, 1, 1, 2, 2, 2, 2, 2, 2, 2, 0, 0, 0, 4, 1,\n",
              "       3, 3, 3, 1, 1, 1, 1, 1, 2, 2, 2, 2, 2, 2, 0, 0, 0, 0, 4, 4, 3, 3,\n",
              "       3, 3, 1, 1, 1, 1, 4, 4, 2, 2, 2, 2, 0, 4, 0, 0, 4, 4, 3, 3, 3, 1,\n",
              "       1, 1, 1, 1, 4, 4, 2, 2, 2, 2, 0, 0, 0, 0, 4, 4, 3, 3, 3, 3, 1, 1,\n",
              "       1, 1, 4, 4, 2, 2, 2, 2, 0, 0, 0, 0, 4, 4, 3, 3, 3, 3, 1, 3, 1, 1,\n",
              "       4, 4, 2, 2, 2, 2, 0, 0, 0, 0, 4, 0, 3, 3, 1, 1, 1, 1, 1, 1, 4, 4,\n",
              "       2, 2, 2, 2, 0, 0, 0, 0, 4, 4, 3, 3, 3, 3, 1, 1, 1, 1, 4, 4, 2, 2,\n",
              "       2, 2, 0, 0, 0, 0, 4, 4, 3, 3, 1, 3, 1, 1, 1, 1, 4, 4, 2, 2, 2, 2,\n",
              "       0, 0, 0, 0, 4, 4, 3, 3, 1, 1, 1, 1, 1, 1, 4, 4, 2, 2, 2, 2, 0, 0,\n",
              "       0, 0, 4, 4, 3, 3, 3, 3, 1, 1, 1, 1, 4, 4, 2, 2, 2, 2, 0, 0, 0, 0,\n",
              "       4, 4, 3, 3, 1, 3, 1, 1, 1, 1, 4, 4, 2, 2, 2, 2, 0, 0, 0, 0, 4, 4])"
            ]
          },
          "metadata": {
            "tags": []
          },
          "execution_count": 120
        }
      ]
    },
    {
      "cell_type": "code",
      "metadata": {
        "colab": {
          "base_uri": "https://localhost:8080/",
          "height": 297
        },
        "id": "1VMMGxn8HIhA",
        "outputId": "66fd467f-1cca-4dee-d575-55c2e75fd1f1"
      },
      "source": [
        "vogais.head(8)"
      ],
      "execution_count": null,
      "outputs": [
        {
          "output_type": "execute_result",
          "data": {
            "text/html": [
              "<div>\n",
              "<style scoped>\n",
              "    .dataframe tbody tr th:only-of-type {\n",
              "        vertical-align: middle;\n",
              "    }\n",
              "\n",
              "    .dataframe tbody tr th {\n",
              "        vertical-align: top;\n",
              "    }\n",
              "\n",
              "    .dataframe thead th {\n",
              "        text-align: right;\n",
              "    }\n",
              "</style>\n",
              "<table border=\"1\" class=\"dataframe\">\n",
              "  <thead>\n",
              "    <tr style=\"text-align: right;\">\n",
              "      <th></th>\n",
              "      <th>Genero</th>\n",
              "      <th>Locutor</th>\n",
              "      <th>Tentativa</th>\n",
              "      <th>Fonema</th>\n",
              "      <th>fo</th>\n",
              "      <th>f1</th>\n",
              "      <th>f2</th>\n",
              "      <th>F3</th>\n",
              "      <th>Codigo</th>\n",
              "    </tr>\n",
              "  </thead>\n",
              "  <tbody>\n",
              "    <tr>\n",
              "      <th>0</th>\n",
              "      <td>1</td>\n",
              "      <td>1</td>\n",
              "      <td>1</td>\n",
              "      <td>IY</td>\n",
              "      <td>160</td>\n",
              "      <td>240</td>\n",
              "      <td>2280</td>\n",
              "      <td>2850</td>\n",
              "      <td>17.0</td>\n",
              "    </tr>\n",
              "    <tr>\n",
              "      <th>1</th>\n",
              "      <td>1</td>\n",
              "      <td>1</td>\n",
              "      <td>1</td>\n",
              "      <td>IY</td>\n",
              "      <td>186</td>\n",
              "      <td>280</td>\n",
              "      <td>2400</td>\n",
              "      <td>2790</td>\n",
              "      <td>17.0</td>\n",
              "    </tr>\n",
              "    <tr>\n",
              "      <th>2</th>\n",
              "      <td>1</td>\n",
              "      <td>1</td>\n",
              "      <td>2</td>\n",
              "      <td>IH</td>\n",
              "      <td>203</td>\n",
              "      <td>390</td>\n",
              "      <td>2030</td>\n",
              "      <td>2640</td>\n",
              "      <td>16.0</td>\n",
              "    </tr>\n",
              "    <tr>\n",
              "      <th>3</th>\n",
              "      <td>1</td>\n",
              "      <td>1</td>\n",
              "      <td>2</td>\n",
              "      <td>IH</td>\n",
              "      <td>192</td>\n",
              "      <td>310</td>\n",
              "      <td>1980</td>\n",
              "      <td>2550</td>\n",
              "      <td>16.0</td>\n",
              "    </tr>\n",
              "    <tr>\n",
              "      <th>4</th>\n",
              "      <td>1</td>\n",
              "      <td>1</td>\n",
              "      <td>3</td>\n",
              "      <td>EH</td>\n",
              "      <td>161</td>\n",
              "      <td>490</td>\n",
              "      <td>1870</td>\n",
              "      <td>2420</td>\n",
              "      <td>14.0</td>\n",
              "    </tr>\n",
              "    <tr>\n",
              "      <th>5</th>\n",
              "      <td>1</td>\n",
              "      <td>1</td>\n",
              "      <td>3</td>\n",
              "      <td>*EH</td>\n",
              "      <td>155</td>\n",
              "      <td>570</td>\n",
              "      <td>1700</td>\n",
              "      <td>2600</td>\n",
              "      <td>4.0</td>\n",
              "    </tr>\n",
              "    <tr>\n",
              "      <th>6</th>\n",
              "      <td>1</td>\n",
              "      <td>1</td>\n",
              "      <td>4</td>\n",
              "      <td>*AE</td>\n",
              "      <td>140</td>\n",
              "      <td>560</td>\n",
              "      <td>1820</td>\n",
              "      <td>2660</td>\n",
              "      <td>1.0</td>\n",
              "    </tr>\n",
              "    <tr>\n",
              "      <th>7</th>\n",
              "      <td>1</td>\n",
              "      <td>1</td>\n",
              "      <td>4</td>\n",
              "      <td>AE</td>\n",
              "      <td>180</td>\n",
              "      <td>630</td>\n",
              "      <td>1700</td>\n",
              "      <td>2550</td>\n",
              "      <td>11.0</td>\n",
              "    </tr>\n",
              "  </tbody>\n",
              "</table>\n",
              "</div>"
            ],
            "text/plain": [
              "   Genero  Locutor  Tentativa Fonema   fo   f1    f2    F3  Codigo\n",
              "0       1        1          1     IY  160  240  2280  2850    17.0\n",
              "1       1        1          1     IY  186  280  2400  2790    17.0\n",
              "2       1        1          2     IH  203  390  2030  2640    16.0\n",
              "3       1        1          2     IH  192  310  1980  2550    16.0\n",
              "4       1        1          3     EH  161  490  1870  2420    14.0\n",
              "5       1        1          3    *EH  155  570  1700  2600     4.0\n",
              "6       1        1          4    *AE  140  560  1820  2660     1.0\n",
              "7       1        1          4     AE  180  630  1700  2550    11.0"
            ]
          },
          "metadata": {
            "tags": []
          },
          "execution_count": 121
        }
      ]
    },
    {
      "cell_type": "markdown",
      "metadata": {
        "id": "YfPKY4CGXOEM"
      },
      "source": [
        "# **Referências**"
      ]
    },
    {
      "cell_type": "markdown",
      "metadata": {
        "id": "hYaC-FrxXR14"
      },
      "source": [
        "https://www.fon.hum.uva.nl/praat/"
      ]
    },
    {
      "cell_type": "markdown",
      "metadata": {
        "id": "jOAGUnQ7XWT4"
      },
      "source": [
        "https://rdrr.io/cran/phonTools/man/pb52.html#heading-3"
      ]
    },
    {
      "cell_type": "markdown",
      "metadata": {
        "id": "GyqzA8boXZqP"
      },
      "source": [
        "http://my.ilstu.edu/~jsawyer/consonantsvowels3/consonantsvowels24.html"
      ]
    }
  ]
}